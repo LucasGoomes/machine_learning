{
 "cells": [
  {
   "cell_type": "code",
   "execution_count": 1,
   "metadata": {
    "id": "9JuFw0DgX-M7"
   },
   "outputs": [
    {
     "name": "stdout",
     "output_type": "stream",
     "text": [
      "Collecting skorch\n",
      "  Downloading skorch-0.12.1-py3-none-any.whl (193 kB)\n",
      "     -------------------------------------- 193.7/193.7 kB 3.9 MB/s eta 0:00:00\n",
      "Requirement already satisfied: scipy>=1.1.0 in c:\\users\\l.gomes00\\appdata\\local\\programs\\python\\python310\\lib\\site-packages (from skorch) (1.10.0)\n",
      "Collecting tabulate>=0.7.7\n",
      "  Downloading tabulate-0.9.0-py3-none-any.whl (35 kB)\n",
      "Requirement already satisfied: numpy>=1.13.3 in c:\\users\\l.gomes00\\appdata\\local\\programs\\python\\python310\\lib\\site-packages (from skorch) (1.24.1)\n",
      "Requirement already satisfied: scikit-learn>=0.22.0 in c:\\users\\l.gomes00\\appdata\\local\\programs\\python\\python310\\lib\\site-packages (from skorch) (1.2.0)\n",
      "Requirement already satisfied: tqdm>=4.14.0 in c:\\users\\l.gomes00\\appdata\\local\\programs\\python\\python310\\lib\\site-packages (from skorch) (4.64.1)\n",
      "Requirement already satisfied: threadpoolctl>=2.0.0 in c:\\users\\l.gomes00\\appdata\\local\\programs\\python\\python310\\lib\\site-packages (from scikit-learn>=0.22.0->skorch) (3.1.0)\n",
      "Requirement already satisfied: joblib>=1.1.1 in c:\\users\\l.gomes00\\appdata\\local\\programs\\python\\python310\\lib\\site-packages (from scikit-learn>=0.22.0->skorch) (1.2.0)\n",
      "Requirement already satisfied: colorama in c:\\users\\l.gomes00\\appdata\\local\\programs\\python\\python310\\lib\\site-packages (from tqdm>=4.14.0->skorch) (0.4.6)\n",
      "Installing collected packages: tabulate, skorch\n",
      "Successfully installed skorch-0.12.1 tabulate-0.9.0\n"
     ]
    },
    {
     "name": "stderr",
     "output_type": "stream",
     "text": [
      "\n",
      "[notice] A new release of pip available: 22.3.1 -> 23.0.1\n",
      "[notice] To update, run: python.exe -m pip install --upgrade pip\n"
     ]
    }
   ],
   "source": [
    "#biblioteca que uni o scikit-learn e o pytorch, fazendo o treinamento, ajuste e otimização do nosso modelo\n",
    "!pip install skorch"
   ]
  },
  {
   "cell_type": "code",
   "execution_count": 10,
   "metadata": {
    "id": "mVMAyGwtY8z3"
   },
   "outputs": [],
   "source": [
    "import pandas as pd\n",
    "import numpy as np\n",
    "import torch.nn as nn\n",
    "import torch\n",
    "from skorch import NeuralNetClassifier\n",
    "from sklearn.model_selection import cross_val_score"
   ]
  },
  {
   "cell_type": "code",
   "execution_count": 3,
   "metadata": {
    "id": "fCMzMpjSZKil"
   },
   "outputs": [],
   "source": [
    "#Definindo as seeds e carregando os dados\n",
    "np.random.seed(123)\n",
    "torch.manual_seed(123)\n",
    "\n",
    "#definindo nossa bd\n",
    "base = pd.read_csv('../datasets/iris.csv')"
   ]
  },
  {
   "cell_type": "code",
   "execution_count": 4,
   "metadata": {},
   "outputs": [],
   "source": [
    "#Dividindo a base entre features e label\n",
    "previsores = base.iloc[:, 0:4].values\n",
    "classe = base.iloc[: , 4].values"
   ]
  },
  {
   "cell_type": "code",
   "execution_count": 5,
   "metadata": {
    "id": "ZSpZauPHZ7uB"
   },
   "outputs": [],
   "source": [
    "#transformamos as classes de variaveis categoricas para variaveis numéricas\n",
    "from sklearn.preprocessing import LabelEncoder\n",
    "encoder = LabelEncoder()\n",
    "classe = encoder.fit_transform(classe)"
   ]
  },
  {
   "cell_type": "code",
   "execution_count": 6,
   "metadata": {
    "id": "Vi8QyYQBabHS"
   },
   "outputs": [],
   "source": [
    "#Alterando o tipo dos dados\n",
    "previsores = previsores.astype('float32')\n",
    "classe = classe.astype('int64')"
   ]
  },
  {
   "cell_type": "code",
   "execution_count": 7,
   "metadata": {
    "id": "qGbyHNDMay9o"
   },
   "outputs": [],
   "source": [
    "#CONSTRUINDO O MODELO\n",
    "class Classificador_torch(nn.Module):\n",
    "  def __init__(self):\n",
    "    super().__init__()\n",
    "    self.dense0 = nn.Linear(4, 16)\n",
    "    self.activation0 = nn.ReLU()\n",
    "    self.dense1 = nn.Linear(16, 16)\n",
    "    self.activation1 = nn.ReLU()\n",
    "    self.dense2 = nn.Linear(16, 3)\n",
    "  #definindo a conexão entre as camadas\n",
    "  def forward(self, X):\n",
    "    X = self.dense0(X)\n",
    "    X = self.activation0(X)\n",
    "    X = self.dense1(X)\n",
    "    X = self.activation1(X)\n",
    "    X = self.dense2(X)\n",
    "    return X"
   ]
  },
  {
   "cell_type": "code",
   "execution_count": 8,
   "metadata": {
    "id": "W8IkziV9biEC"
   },
   "outputs": [],
   "source": [
    "#definindo o numero de épocas, a taxa de aprendizado, o otimizador e o batch size\n",
    "classificador_sklearn = NeuralNetClassifier(module = Classificador_torch, \n",
    "                                            criterion = torch.nn.CrossEntropyLoss, \n",
    "                                            optimizer = torch.optim.Adam,\n",
    "                                            max_epochs = 1000,\n",
    "                                            batch_size = 10,\n",
    "                                            train_split = False)"
   ]
  },
  {
   "cell_type": "code",
   "execution_count": null,
   "metadata": {},
   "outputs": [],
   "source": [
    "#FAZENDO A VALIDAÇÃO CRUZADA\n",
    "resultados = cross_val_score(classificador_sklearn, previsores, classe, \n",
    "                             scoring = 'accuracy')"
   ]
  },
  {
   "cell_type": "code",
   "execution_count": null,
   "metadata": {
    "id": "4uBmgFtPChTW"
   },
   "outputs": [],
   "source": [
    "#extraindo a média e o desvio padrao dos resultados\n",
    "media = resultados.mean()\n",
    "desvio = resultados.std()"
   ]
  },
  {
   "cell_type": "code",
   "execution_count": null,
   "metadata": {
    "id": "2D-VA7iSChYF"
   },
   "outputs": [],
   "source": [
    "media, desvio"
   ]
  },
  {
   "cell_type": "code",
   "execution_count": null,
   "metadata": {
    "id": "CKneu3W3Cp4M"
   },
   "outputs": [],
   "source": [
    "#printando a porcentagem de acerto de cada classe\n",
    "resultados"
   ]
  }
 ],
 "metadata": {
  "colab": {
   "authorship_tag": "ABX9TyPTJBKztGk1AElrr/+mbWOu",
   "collapsed_sections": [],
   "name": "Classificação-multiclasse-iris-com-validação-cruzada.ipynb",
   "provenance": []
  },
  "kernelspec": {
   "display_name": "Python 3 (ipykernel)",
   "language": "python",
   "name": "python3"
  },
  "language_info": {
   "codemirror_mode": {
    "name": "ipython",
    "version": 3
   },
   "file_extension": ".py",
   "mimetype": "text/x-python",
   "name": "python",
   "nbconvert_exporter": "python",
   "pygments_lexer": "ipython3",
   "version": "3.10.9"
  }
 },
 "nbformat": 4,
 "nbformat_minor": 1
}
