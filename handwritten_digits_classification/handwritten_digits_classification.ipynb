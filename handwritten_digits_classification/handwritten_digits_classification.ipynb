{
 "cells": [
  {
   "cell_type": "code",
   "execution_count": 1,
   "id": "4300deef",
   "metadata": {},
   "outputs": [],
   "source": [
    "#Bibliotecas\n",
    "import matplotlib.pyplot as plt\n",
    "import numpy as np\n",
    "from tensorflow.keras.datasets import mnist\n",
    "from tensorflow.keras.models import Sequential\n",
    "from tensorflow.keras.layers import Dense, Flatten, Dropout\n",
    "from tensorflow.python.keras.utils import np_utils\n",
    "from tensorflow.keras.layers import Conv2D, MaxPooling2D\n",
    "from tensorflow.keras.layers import BatchNormalization\n",
    "from tensorflow.keras.preprocessing.image import ImageDataGenerator"
   ]
  },
  {
   "cell_type": "code",
   "execution_count": 2,
   "id": "d3aacfc8",
   "metadata": {},
   "outputs": [],
   "source": [
    "#Carregando os dados\n",
    "(x_train, y_train), (x_test, y_test) = mnist.load_data()"
   ]
  },
  {
   "cell_type": "code",
   "execution_count": 3,
   "id": "ba3e1acf",
   "metadata": {},
   "outputs": [],
   "source": [
    "#Pré-processamento dos dados\n",
    "\n",
    "#Adaptando os dados ao padrão do TensorFlow\n",
    "x_reshape = x_train.reshape(x_train.shape[0], 28, 28, 1)\n",
    "x_test_reshape = x_test.reshape(x_test.shape[0], 28, 28, 1)\n",
    "x_reshape = x_reshape.astype('float32')\n",
    "x_test_reshape = x_test_reshape.astype('float32')"
   ]
  },
  {
   "cell_type": "code",
   "execution_count": 4,
   "id": "9b223f84",
   "metadata": {},
   "outputs": [],
   "source": [
    "#Padronizando as escalas (Normalization)\n",
    "x_reshape /= 255 \n",
    "x_test_reshape /= 255"
   ]
  },
  {
   "cell_type": "code",
   "execution_count": 6,
   "id": "f247b6df",
   "metadata": {},
   "outputs": [],
   "source": [
    "#Variaveis Dummy\n",
    "class_train = np_utils.to_categorical(y_train, 10)\n",
    "class_test = np_utils.to_categorical(y_test, 10)"
   ]
  },
  {
   "cell_type": "code",
   "execution_count": 7,
   "id": "0eecffa9",
   "metadata": {},
   "outputs": [],
   "source": [
    "#Definindo a estrutura da rede neural\n",
    "classifier = Sequential()\n",
    "#camadas de convolução \n",
    "classifier.add(Conv2D(32, (3,3), input_shape=(28,28,1), activation='relu'))\n",
    "classifier.add(BatchNormalization())\n",
    "classifier.add(MaxPooling2D(pool_size=(2,2)))\n",
    "\n",
    "classifier.add(Conv2D(32, (3,3), activation='relu'))\n",
    "classifier.add(BatchNormalization())\n",
    "classifier.add(MaxPooling2D(pool_size=(2,2)))\n",
    "classifier.add(Flatten())\n",
    "\n",
    "#camadas densas\n",
    "classifier.add(Dense(units= 128, activation='relu'))\n",
    "classifier.add(Dropout(0.2)) #zerando alguns valores de entrada para evitar o overfitting\n",
    "\n",
    "classifier.add(Dense(units= 128, activation='relu'))\n",
    "classifier.add(Dropout(0.2))\n",
    "\n",
    "#camada de saida\n",
    "classifier.add(Dense(units=10, activation='softmax'))"
   ]
  },
  {
   "cell_type": "code",
   "execution_count": 8,
   "id": "4f4bf76a",
   "metadata": {},
   "outputs": [],
   "source": [
    "classifier.compile(loss='categorical_crossentropy', optimizer='Adam', metrics=['accuracy'])"
   ]
  },
  {
   "cell_type": "code",
   "execution_count": 9,
   "id": "3261293b",
   "metadata": {},
   "outputs": [
    {
     "name": "stdout",
     "output_type": "stream",
     "text": [
      "Epoch 1/5\n",
      "469/469 [==============================] - 44s 89ms/step - loss: 0.2024 - accuracy: 0.9376 - val_loss: 0.1398 - val_accuracy: 0.9570\n",
      "Epoch 2/5\n",
      "469/469 [==============================] - 41s 88ms/step - loss: 0.0617 - accuracy: 0.9814 - val_loss: 0.0372 - val_accuracy: 0.9885\n",
      "Epoch 3/5\n",
      "469/469 [==============================] - 44s 93ms/step - loss: 0.0430 - accuracy: 0.9872 - val_loss: 0.0408 - val_accuracy: 0.9868\n",
      "Epoch 4/5\n",
      "469/469 [==============================] - 40s 85ms/step - loss: 0.0354 - accuracy: 0.9897 - val_loss: 0.0315 - val_accuracy: 0.9899\n",
      "Epoch 5/5\n",
      "469/469 [==============================] - 39s 84ms/step - loss: 0.0285 - accuracy: 0.9912 - val_loss: 0.0294 - val_accuracy: 0.9905\n"
     ]
    },
    {
     "data": {
      "text/plain": [
       "<keras.callbacks.History at 0x2315d5de410>"
      ]
     },
     "execution_count": 9,
     "metadata": {},
     "output_type": "execute_result"
    }
   ],
   "source": [
    "#Treinando o modelo\n",
    "classifier.fit(x_reshape, class_train, batch_size=128, epochs=5, validation_data=(x_test_reshape, class_test))"
   ]
  },
  {
   "cell_type": "code",
   "execution_count": 11,
   "id": "bdd78cfd",
   "metadata": {},
   "outputs": [
    {
     "name": "stdout",
     "output_type": "stream",
     "text": [
      "313/313 [==============================] - 2s 8ms/step - loss: 0.0294 - accuracy: 0.9905\n"
     ]
    }
   ],
   "source": [
    "precision = classifier.evaluate(x_test_reshape, class_test)"
   ]
  },
  {
   "cell_type": "code",
   "execution_count": 12,
   "id": "84d46891",
   "metadata": {},
   "outputs": [],
   "source": [
    "#Validação cruzada\n",
    "from sklearn.model_selection import StratifiedKFold\n",
    "seed = 5\n",
    "np.random.seed(seed)\n",
    "(x,y), (x_test, y_test) = mnist.load_data()\n",
    "x_reshape = x.reshape(x.shape[0], 28, 28, 1)\n",
    "x_reshape = x_reshape.astype('float32')\n",
    "x_reshape /= 255\n",
    "classe = np_utils.to_categorical(y, 10)\n",
    "\n",
    "kfold = StratifiedKFold(n_splits=5, shuffle=True, random_state=seed)\n",
    "results = []"
   ]
  },
  {
   "cell_type": "code",
   "execution_count": 13,
   "id": "3065850f",
   "metadata": {},
   "outputs": [
    {
     "name": "stdout",
     "output_type": "stream",
     "text": [
      "Epoch 1/5\n",
      "375/375 [==============================] - 16s 41ms/step - loss: 0.2485 - accuracy: 0.9279\n",
      "Epoch 2/5\n",
      "375/375 [==============================] - 16s 43ms/step - loss: 0.0783 - accuracy: 0.9772\n",
      "Epoch 3/5\n",
      "375/375 [==============================] - 16s 42ms/step - loss: 0.0511 - accuracy: 0.9852\n",
      "Epoch 4/5\n",
      "375/375 [==============================] - 16s 42ms/step - loss: 0.0368 - accuracy: 0.9895\n",
      "Epoch 5/5\n",
      "375/375 [==============================] - 16s 44ms/step - loss: 0.0298 - accuracy: 0.9913\n",
      "375/375 [==============================] - 3s 8ms/step - loss: 0.0133 - accuracy: 0.9962\n",
      "Epoch 1/5\n",
      "375/375 [==============================] - 16s 39ms/step - loss: 0.2522 - accuracy: 0.9294\n",
      "Epoch 2/5\n",
      "375/375 [==============================] - 16s 42ms/step - loss: 0.0824 - accuracy: 0.9757\n",
      "Epoch 3/5\n",
      "375/375 [==============================] - 15s 40ms/step - loss: 0.0557 - accuracy: 0.9829\n",
      "Epoch 4/5\n",
      "375/375 [==============================] - 15s 40ms/step - loss: 0.0400 - accuracy: 0.9885\n",
      "Epoch 5/5\n",
      "375/375 [==============================] - 15s 39ms/step - loss: 0.0291 - accuracy: 0.9914\n",
      "375/375 [==============================] - 3s 7ms/step - loss: 0.0117 - accuracy: 0.9967\n",
      "Epoch 1/5\n",
      "375/375 [==============================] - 16s 39ms/step - loss: 0.2403 - accuracy: 0.9314\n",
      "Epoch 2/5\n",
      "375/375 [==============================] - 15s 39ms/step - loss: 0.0761 - accuracy: 0.9772\n",
      "Epoch 3/5\n",
      "375/375 [==============================] - 15s 40ms/step - loss: 0.0527 - accuracy: 0.9843\n",
      "Epoch 4/5\n",
      "375/375 [==============================] - 15s 40ms/step - loss: 0.0387 - accuracy: 0.9889\n",
      "Epoch 5/5\n",
      "375/375 [==============================] - 15s 41ms/step - loss: 0.0290 - accuracy: 0.9912\n",
      "375/375 [==============================] - 3s 8ms/step - loss: 0.0108 - accuracy: 0.9963\n",
      "Epoch 1/5\n",
      "375/375 [==============================] - 16s 40ms/step - loss: 0.2474 - accuracy: 0.9303\n",
      "Epoch 2/5\n",
      "375/375 [==============================] - 15s 39ms/step - loss: 0.0790 - accuracy: 0.9767\n",
      "Epoch 3/5\n",
      "375/375 [==============================] - 15s 40ms/step - loss: 0.0526 - accuracy: 0.9839\n",
      "Epoch 4/5\n",
      "375/375 [==============================] - 15s 40ms/step - loss: 0.0395 - accuracy: 0.9882\n",
      "Epoch 5/5\n",
      "375/375 [==============================] - 15s 40ms/step - loss: 0.0288 - accuracy: 0.9918\n",
      "375/375 [==============================] - 3s 8ms/step - loss: 0.0130 - accuracy: 0.9964\n",
      "Epoch 1/5\n",
      "375/375 [==============================] - 17s 43ms/step - loss: 0.2738 - accuracy: 0.9202\n",
      "Epoch 2/5\n",
      "375/375 [==============================] - 16s 44ms/step - loss: 0.0896 - accuracy: 0.9739\n",
      "Epoch 3/5\n",
      "375/375 [==============================] - 16s 43ms/step - loss: 0.0577 - accuracy: 0.9830\n",
      "Epoch 4/5\n",
      "375/375 [==============================] - 16s 42ms/step - loss: 0.0414 - accuracy: 0.9876\n",
      "Epoch 5/5\n",
      "375/375 [==============================] - 16s 41ms/step - loss: 0.0307 - accuracy: 0.9908\n",
      "375/375 [==============================] - 3s 7ms/step - loss: 0.0123 - accuracy: 0.9962\n"
     ]
    }
   ],
   "source": [
    "for indice_train, indice_test in kfold.split(x_reshape, np.zeros(shape=(classe.shape[0],1))):\n",
    "    classifier2 = Sequential()\n",
    "    classifier2.add(Conv2D(32, (3,3), input_shape=(28,28,1), activation='relu'))\n",
    "    classifier2.add(MaxPooling2D(pool_size=(2,2)))\n",
    "    classifier2.add(Flatten())\n",
    "    \n",
    "    classifier2.add(Dense(units=128, activation='relu'))\n",
    "    classifier2.add(Dense(units=10, activation='softmax'))\n",
    "    \n",
    "    classifier2.compile(optimizer='Adam', loss='categorical_crossentropy', metrics=['accuracy'])\n",
    "    classifier2.fit(x_reshape[indice_train], classe[indice_train], batch_size=128, epochs=5)\n",
    "    \n",
    "    precision2 = classifier.evaluate(x_reshape[indice_test], classe[indice_test])\n",
    "    results.append(precision2[1])"
   ]
  },
  {
   "cell_type": "code",
   "execution_count": 14,
   "id": "29e7de94",
   "metadata": {},
   "outputs": [
    {
     "data": {
      "text/plain": [
       "0.9963666677474976"
      ]
     },
     "execution_count": 14,
     "metadata": {},
     "output_type": "execute_result"
    }
   ],
   "source": [
    "results_mean = sum(results)/len(results)\n",
    "results_mean"
   ]
  },
  {
   "cell_type": "markdown",
   "id": "426ae441",
   "metadata": {},
   "source": [
    "### Data Augumentation"
   ]
  },
  {
   "cell_type": "code",
   "execution_count": 15,
   "id": "d52f7edb",
   "metadata": {},
   "outputs": [],
   "source": [
    "generate_train = ImageDataGenerator(rotation_range = 7, \n",
    "                                   horizontal_flip = True,\n",
    "                                   shear_range=0.2,\n",
    "                                   height_shift_range=0.07,\n",
    "                                   zoom_range=0.2)\n",
    "generate_test = ImageDataGenerator()"
   ]
  },
  {
   "cell_type": "code",
   "execution_count": 16,
   "id": "5d0ac411",
   "metadata": {},
   "outputs": [],
   "source": [
    "x = generate_train.flow(x_reshape, class_train, batch_size=128)\n",
    "y = generate_test.flow(x_test_reshape, class_test, batch_size=128)"
   ]
  },
  {
   "cell_type": "code",
   "execution_count": 17,
   "id": "7ab08ee9",
   "metadata": {},
   "outputs": [
    {
     "name": "stdout",
     "output_type": "stream",
     "text": [
      "Epoch 1/5\n"
     ]
    },
    {
     "name": "stderr",
     "output_type": "stream",
     "text": [
      "C:\\Users\\l.gomes00\\AppData\\Local\\Temp\\ipykernel_11572\\3878678674.py:1: UserWarning: `Model.fit_generator` is deprecated and will be removed in a future version. Please use `Model.fit`, which supports generators.\n",
      "  classifier.fit_generator(x, steps_per_epoch=60000/128,\n"
     ]
    },
    {
     "name": "stdout",
     "output_type": "stream",
     "text": [
      "468/468 [==============================] - 48s 100ms/step - loss: 0.2191 - accuracy: 0.9351 - val_loss: 0.0569 - val_accuracy: 0.9825\n",
      "Epoch 2/5\n",
      "468/468 [==============================] - 45s 95ms/step - loss: 0.1169 - accuracy: 0.9657 - val_loss: 0.0579 - val_accuracy: 0.9823\n",
      "Epoch 3/5\n",
      "468/468 [==============================] - 46s 97ms/step - loss: 0.0978 - accuracy: 0.9706 - val_loss: 0.0478 - val_accuracy: 0.9847\n",
      "Epoch 4/5\n",
      "468/468 [==============================] - 45s 96ms/step - loss: 0.0892 - accuracy: 0.9731 - val_loss: 0.0537 - val_accuracy: 0.9830\n",
      "Epoch 5/5\n",
      "468/468 [==============================] - 46s 99ms/step - loss: 0.0846 - accuracy: 0.9746 - val_loss: 0.0462 - val_accuracy: 0.9868\n"
     ]
    },
    {
     "data": {
      "text/plain": [
       "<keras.callbacks.History at 0x23150da05e0>"
      ]
     },
     "execution_count": 17,
     "metadata": {},
     "output_type": "execute_result"
    }
   ],
   "source": [
    "classifier.fit_generator(x, steps_per_epoch=60000/128,\n",
    "                        epochs=5,\n",
    "                        validation_data=y,\n",
    "                        validation_steps=10000/128)"
   ]
  }
 ],
 "metadata": {
  "kernelspec": {
   "display_name": "Python 3 (ipykernel)",
   "language": "python",
   "name": "python3"
  },
  "language_info": {
   "codemirror_mode": {
    "name": "ipython",
    "version": 3
   },
   "file_extension": ".py",
   "mimetype": "text/x-python",
   "name": "python",
   "nbconvert_exporter": "python",
   "pygments_lexer": "ipython3",
   "version": "3.10.9"
  }
 },
 "nbformat": 4,
 "nbformat_minor": 5
}
