{
 "cells": [
  {
   "cell_type": "code",
   "execution_count": 1,
   "id": "1c3215ab",
   "metadata": {},
   "outputs": [],
   "source": [
    "#Bibliotecas\n",
    "import matplotlib.pyplot as plt\n",
    "import numpy as np\n",
    "from tensorflow.keras.models import Sequential\n",
    "from tensorflow.keras.layers import Conv2D, MaxPooling2D, Flatten, Dense, Dropout, BatchNormalization\n",
    "from tensorflow.keras.preprocessing.image import ImageDataGenerator\n",
    "from tensorflow.keras.preprocessing import image"
   ]
  },
  {
   "cell_type": "code",
   "execution_count": 2,
   "id": "0dc3ab7d",
   "metadata": {},
   "outputs": [],
   "source": [
    "#Definindo a arquitetura da rede neural convolucional\n",
    "\n",
    "classifier = Sequential()\n",
    "classifier.add(Conv2D(32, (3,3), input_shape=(64,64, 3), activation='relu'))\n",
    "classifier.add(BatchNormalization())\n",
    "classifier.add(MaxPooling2D(pool_size=(2,2)))\n",
    "\n",
    "classifier.add(Conv2D(32, (3,3), activation='relu'))\n",
    "classifier.add(BatchNormalization())\n",
    "classifier.add(MaxPooling2D(pool_size=(2,2)))\n",
    "\n",
    "classifier.add(Flatten())\n",
    "\n",
    "classifier.add(Dense(units=128, activation='relu'))\n",
    "classifier.add(Dropout(0.2))\n",
    "classifier.add(Dense(units=128, activation='relu'))\n",
    "classifier.add(Dropout(0.2))\n",
    "classifier.add(Dense(units=1, activation='sigmoid'))"
   ]
  },
  {
   "cell_type": "code",
   "execution_count": 3,
   "id": "b72cabf4",
   "metadata": {},
   "outputs": [],
   "source": [
    "#definindo a funçao de perca, o otimizador e as métricas de avaliação\n",
    "classifier.compile(loss='binary_crossentropy', optimizer='Adam', metrics=['accuracy'])"
   ]
  },
  {
   "cell_type": "code",
   "execution_count": 5,
   "id": "2f50815d",
   "metadata": {},
   "outputs": [],
   "source": [
    "#Carregando as imagens\n",
    "generate_train = ImageDataGenerator(rescale=1./255,\n",
    "                                   rotation_range=7,\n",
    "                                   horizontal_flip=True,\n",
    "                                   shear_range=0.2,\n",
    "                                   height_shift_range=0.07,\n",
    "                                   zoom_range=0.2)\n",
    "\n",
    "generate_test = ImageDataGenerator(rescale=1./255)"
   ]
  },
  {
   "cell_type": "code",
   "execution_count": 6,
   "id": "3f00d8e1",
   "metadata": {},
   "outputs": [
    {
     "name": "stdout",
     "output_type": "stream",
     "text": [
      "Found 4014 images belonging to 2 classes.\n"
     ]
    }
   ],
   "source": [
    "train = generate_train.flow_from_directory('../datasets/cat-dog/training_set',\n",
    "                                           target_size=(64,64),\n",
    "                                           batch_size=32,\n",
    "                                           class_mode='binary')"
   ]
  },
  {
   "cell_type": "code",
   "execution_count": 7,
   "id": "692e87f1",
   "metadata": {},
   "outputs": [
    {
     "name": "stdout",
     "output_type": "stream",
     "text": [
      "Found 1000 images belonging to 2 classes.\n"
     ]
    }
   ],
   "source": [
    "test = generate_test.flow_from_directory('../datasets/cat-dog/test_set',\n",
    "                                        target_size=(64,64),\n",
    "                                        batch_size=32,\n",
    "                                        class_mode='binary')"
   ]
  },
  {
   "cell_type": "code",
   "execution_count": 8,
   "id": "b0329a16",
   "metadata": {},
   "outputs": [
    {
     "name": "stderr",
     "output_type": "stream",
     "text": [
      "C:\\Users\\l.gomes00\\AppData\\Local\\Temp\\ipykernel_14072\\1337014603.py:2: UserWarning: `Model.fit_generator` is deprecated and will be removed in a future version. Please use `Model.fit`, which supports generators.\n",
      "  classifier.fit_generator(train, steps_per_epoch = 4000/32,\n"
     ]
    },
    {
     "name": "stdout",
     "output_type": "stream",
     "text": [
      "Epoch 1/10\n",
      "125/125 [==============================] - 34s 251ms/step - loss: 0.8058 - accuracy: 0.5648 - val_loss: 1.3849 - val_accuracy: 0.5000\n",
      "Epoch 2/10\n",
      "125/125 [==============================] - 25s 196ms/step - loss: 0.6579 - accuracy: 0.6276 - val_loss: 1.5221 - val_accuracy: 0.5060\n",
      "Epoch 3/10\n",
      "125/125 [==============================] - 25s 202ms/step - loss: 0.6160 - accuracy: 0.6703 - val_loss: 0.7025 - val_accuracy: 0.6190\n",
      "Epoch 4/10\n",
      "125/125 [==============================] - 26s 204ms/step - loss: 0.5980 - accuracy: 0.6748 - val_loss: 0.5971 - val_accuracy: 0.6750\n",
      "Epoch 5/10\n",
      "125/125 [==============================] - 27s 213ms/step - loss: 0.5637 - accuracy: 0.7137 - val_loss: 0.7227 - val_accuracy: 0.5980\n",
      "Epoch 6/10\n",
      "125/125 [==============================] - 25s 199ms/step - loss: 0.5545 - accuracy: 0.7205 - val_loss: 0.5969 - val_accuracy: 0.6840\n",
      "Epoch 7/10\n",
      "125/125 [==============================] - 27s 217ms/step - loss: 0.5408 - accuracy: 0.7230 - val_loss: 0.5617 - val_accuracy: 0.7050\n",
      "Epoch 8/10\n",
      "125/125 [==============================] - 29s 229ms/step - loss: 0.5210 - accuracy: 0.7313 - val_loss: 0.7494 - val_accuracy: 0.6170\n",
      "Epoch 9/10\n",
      "125/125 [==============================] - 25s 199ms/step - loss: 0.5050 - accuracy: 0.7413 - val_loss: 0.5372 - val_accuracy: 0.7160\n",
      "Epoch 10/10\n",
      "125/125 [==============================] - 25s 202ms/step - loss: 0.4708 - accuracy: 0.7720 - val_loss: 0.5447 - val_accuracy: 0.7410\n"
     ]
    },
    {
     "data": {
      "text/plain": [
       "<keras.callbacks.History at 0x1d3ff379330>"
      ]
     },
     "execution_count": 8,
     "metadata": {},
     "output_type": "execute_result"
    }
   ],
   "source": [
    "#Treinando o modelo\n",
    "classifier.fit_generator(train, steps_per_epoch = 4000/32,\n",
    "                        epochs=10,\n",
    "                        validation_data=test,\n",
    "                        validation_steps=1000/32)"
   ]
  },
  {
   "cell_type": "markdown",
   "id": "83f66264",
   "metadata": {},
   "source": [
    "#### Predição de somente uma imagem"
   ]
  },
  {
   "cell_type": "code",
   "execution_count": 14,
   "id": "6234668e",
   "metadata": {},
   "outputs": [],
   "source": [
    "#Pré-processando uma imagem aleatoria para ficar no padrão do treinamento do modelo\n",
    "image_test = image.load_img('../datasets/cat-dog/test_set/gato/cat.3517.jpg', target_size=(64,64))\n",
    "image_test = image.img_to_array(image_test)\n",
    "image_test /= 255\n",
    "image_test = np.expand_dims(image_test, axis=0)"
   ]
  },
  {
   "cell_type": "code",
   "execution_count": 16,
   "id": "015f4592",
   "metadata": {},
   "outputs": [
    {
     "name": "stdout",
     "output_type": "stream",
     "text": [
      "1/1 [==============================] - 0s 33ms/step\n"
     ]
    },
    {
     "data": {
      "text/plain": [
       "{'cachorro': 0, 'gato': 1}"
      ]
     },
     "execution_count": 16,
     "metadata": {},
     "output_type": "execute_result"
    }
   ],
   "source": [
    "#Testando se o modelo irá classificar a imagem aleatoria corretamente\n",
    "predict = classifier.predict(image_test)\n",
    "train.class_indices"
   ]
  },
  {
   "cell_type": "code",
   "execution_count": 17,
   "id": "3f8003f3",
   "metadata": {},
   "outputs": [
    {
     "name": "stdout",
     "output_type": "stream",
     "text": [
      "Gato\n"
     ]
    }
   ],
   "source": [
    "if predict > 0.5:\n",
    "    print('Gato')\n",
    "else:\n",
    "    print('Cachorro')"
   ]
  }
 ],
 "metadata": {
  "kernelspec": {
   "display_name": "Python 3 (ipykernel)",
   "language": "python",
   "name": "python3"
  },
  "language_info": {
   "codemirror_mode": {
    "name": "ipython",
    "version": 3
   },
   "file_extension": ".py",
   "mimetype": "text/x-python",
   "name": "python",
   "nbconvert_exporter": "python",
   "pygments_lexer": "ipython3",
   "version": "3.10.9"
  }
 },
 "nbformat": 4,
 "nbformat_minor": 5
}
