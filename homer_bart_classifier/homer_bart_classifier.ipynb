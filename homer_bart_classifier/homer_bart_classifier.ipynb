{
 "cells": [
  {
   "cell_type": "code",
   "execution_count": 38,
   "metadata": {
    "colab": {
     "base_uri": "https://localhost:8080/",
     "height": 35
    },
    "id": "8L2cAy36dgRP",
    "outputId": "64cc0662-cce7-4f8c-b7c8-52742a649887"
   },
   "outputs": [
    {
     "data": {
      "application/vnd.google.colaboratory.intrinsic+json": {
       "type": "string"
      },
      "text/plain": [
       "'2.9.2'"
      ]
     },
     "execution_count": 38,
     "metadata": {},
     "output_type": "execute_result"
    }
   ],
   "source": [
    "#Bibliotecas\n",
    "import numpy as np\n",
    "import matplotlib.pyplot as plt\n",
    "import seaborn as sns\n",
    "import zipfile\n",
    "from google.colab.patches import cv2_imshow\n",
    "import os\n",
    "import cv2\n",
    "from sklearn.metrics import confusion_matrix\n",
    "from sklearn.metrics import accuracy_score, classification_report\n",
    "import tensorflow as tf\n",
    "from tensorflow.keras.models import Sequential\n",
    "from tensorflow.keras.layers import Conv2D, MaxPool2D, Flatten, Dense\n",
    "from tensorflow.keras.preprocessing.image import ImageDataGenerator\n",
    "tf.__version__"
   ]
  },
  {
   "cell_type": "code",
   "execution_count": 3,
   "metadata": {
    "colab": {
     "base_uri": "https://localhost:8080/"
    },
    "id": "o9X3oErQejKz",
    "outputId": "e056b6a7-b280-4d22-80d7-1fbdcddeccfc"
   },
   "outputs": [
    {
     "name": "stdout",
     "output_type": "stream",
     "text": [
      "Mounted at /content/drive\n"
     ]
    }
   ],
   "source": [
    "#Recuperando os dados do drive\n",
    "from google.colab import drive\n",
    "drive.mount('/content/drive')\n",
    "\n",
    "path = '/content/drive/MyDrive/Visão Computacional Guia Completo/Datasets/homer_bart_2.zip'\n",
    "zip = zipfile.ZipFile(file=path, mode='r')\n",
    "zip.extractall('./')\n",
    "zip.close()"
   ]
  },
  {
   "cell_type": "markdown",
   "metadata": {
    "id": "zjSXGDeHf-0G"
   },
   "source": [
    "Divindo a base entre treinamento e teste (o próprio TensorFlow irá reconhecer as classes usando o nome das pastas)"
   ]
  },
  {
   "cell_type": "code",
   "execution_count": 9,
   "metadata": {
    "id": "svRjOeGRfQIZ"
   },
   "outputs": [],
   "source": [
    "#definindo os préprocessamentos que serão feitos nas imagens\n",
    "generate_train = ImageDataGenerator(rescale=1./255, \n",
    "                                    rotation_range=7,\n",
    "                                    horizontal_flip=True,\n",
    "                                    zoom_range=0.2)"
   ]
  },
  {
   "cell_type": "code",
   "execution_count": 10,
   "metadata": {
    "colab": {
     "base_uri": "https://localhost:8080/"
    },
    "id": "0iL6osu3giBE",
    "outputId": "b9ac4df6-7369-4366-83d0-14dfaa3c0191"
   },
   "outputs": [
    {
     "name": "stdout",
     "output_type": "stream",
     "text": [
      "Found 215 images belonging to 2 classes.\n"
     ]
    }
   ],
   "source": [
    "#recuperando todas as imagens de treino\n",
    "data_train = generate_train.flow_from_directory('/content/homer_bart_2/training_set', target_size=(64,64),\n",
    "                                                batch_size=8, \n",
    "                                                class_mode='categorical',\n",
    "                                                shuffle=True)"
   ]
  },
  {
   "cell_type": "code",
   "execution_count": 11,
   "metadata": {
    "colab": {
     "base_uri": "https://localhost:8080/"
    },
    "id": "Hm_E5orjhY8g",
    "outputId": "c69dd00f-e3e8-44aa-9d1c-8a48060f7447"
   },
   "outputs": [
    {
     "data": {
      "text/plain": [
       "array([0, 0, 0, 0, 0, 0, 0, 0, 0, 0, 0, 0, 0, 0, 0, 0, 0, 0, 0, 0, 0, 0,\n",
       "       0, 0, 0, 0, 0, 0, 0, 0, 0, 0, 0, 0, 0, 0, 0, 0, 0, 0, 0, 0, 0, 0,\n",
       "       0, 0, 0, 0, 0, 0, 0, 0, 0, 0, 0, 0, 0, 0, 0, 0, 0, 0, 0, 0, 0, 0,\n",
       "       0, 0, 0, 0, 0, 0, 0, 0, 0, 0, 0, 0, 0, 0, 0, 0, 0, 0, 0, 0, 0, 0,\n",
       "       0, 0, 0, 0, 0, 0, 0, 0, 0, 0, 0, 0, 0, 0, 0, 0, 0, 0, 0, 0, 0, 0,\n",
       "       0, 0, 0, 0, 0, 0, 0, 0, 0, 0, 0, 0, 0, 0, 0, 0, 0, 0, 0, 0, 0, 0,\n",
       "       1, 1, 1, 1, 1, 1, 1, 1, 1, 1, 1, 1, 1, 1, 1, 1, 1, 1, 1, 1, 1, 1,\n",
       "       1, 1, 1, 1, 1, 1, 1, 1, 1, 1, 1, 1, 1, 1, 1, 1, 1, 1, 1, 1, 1, 1,\n",
       "       1, 1, 1, 1, 1, 1, 1, 1, 1, 1, 1, 1, 1, 1, 1, 1, 1, 1, 1, 1, 1, 1,\n",
       "       1, 1, 1, 1, 1, 1, 1, 1, 1, 1, 1, 1, 1, 1, 1, 1, 1], dtype=int32)"
      ]
     },
     "execution_count": 11,
     "metadata": {},
     "output_type": "execute_result"
    }
   ],
   "source": [
    "data_train.classes"
   ]
  },
  {
   "cell_type": "code",
   "execution_count": 12,
   "metadata": {
    "colab": {
     "base_uri": "https://localhost:8080/"
    },
    "id": "ThUXRXU8heBZ",
    "outputId": "3990066c-53d2-4a55-ae62-1005c1f99109"
   },
   "outputs": [
    {
     "data": {
      "text/plain": [
       "{'bart': 0, 'homer': 1}"
      ]
     },
     "execution_count": 12,
     "metadata": {},
     "output_type": "execute_result"
    }
   ],
   "source": [
    "data_train.class_indices"
   ]
  },
  {
   "cell_type": "code",
   "execution_count": 13,
   "metadata": {
    "colab": {
     "base_uri": "https://localhost:8080/"
    },
    "id": "Sg02uuzBhhB0",
    "outputId": "6040e6dc-e2eb-40a8-82ea-5bafb3643fd9"
   },
   "outputs": [
    {
     "name": "stdout",
     "output_type": "stream",
     "text": [
      "Found 54 images belonging to 2 classes.\n"
     ]
    }
   ],
   "source": [
    "generate_test = ImageDataGenerator(rescale=1./255)\n",
    "data_test = generate_test.flow_from_directory('/content/homer_bart_2/test_set', target_size=(64,64),\n",
    "                                              batch_size=1, \n",
    "                                              class_mode='categorical',\n",
    "                                              shuffle=False)"
   ]
  },
  {
   "cell_type": "code",
   "execution_count": 22,
   "metadata": {
    "colab": {
     "base_uri": "https://localhost:8080/"
    },
    "id": "5uHy7k66h9al",
    "outputId": "6915d5c0-1cb6-411b-f30a-0e0a859e90ed"
   },
   "outputs": [
    {
     "name": "stdout",
     "output_type": "stream",
     "text": [
      "Model: \"sequential_6\"\n",
      "_________________________________________________________________\n",
      " Layer (type)                Output Shape              Param #   \n",
      "=================================================================\n",
      " conv2d_8 (Conv2D)           (None, 62, 62, 32)        896       \n",
      "                                                                 \n",
      " max_pooling2d_8 (MaxPooling  (None, 31, 31, 32)       0         \n",
      " 2D)                                                             \n",
      "                                                                 \n",
      " conv2d_9 (Conv2D)           (None, 29, 29, 32)        9248      \n",
      "                                                                 \n",
      " max_pooling2d_9 (MaxPooling  (None, 14, 14, 32)       0         \n",
      " 2D)                                                             \n",
      "                                                                 \n",
      " conv2d_10 (Conv2D)          (None, 12, 12, 32)        9248      \n",
      "                                                                 \n",
      " max_pooling2d_10 (MaxPoolin  (None, 6, 6, 32)         0         \n",
      " g2D)                                                            \n",
      "                                                                 \n",
      " flatten_2 (Flatten)         (None, 1152)              0         \n",
      "                                                                 \n",
      " dense_1 (Dense)             (None, 577)               665281    \n",
      "                                                                 \n",
      " dense_2 (Dense)             (None, 577)               333506    \n",
      "                                                                 \n",
      " dense_3 (Dense)             (None, 2)                 1156      \n",
      "                                                                 \n",
      "=================================================================\n",
      "Total params: 1,019,335\n",
      "Trainable params: 1,019,335\n",
      "Non-trainable params: 0\n",
      "_________________________________________________________________\n"
     ]
    }
   ],
   "source": [
    "#Definindo a estrutura da rede neural\n",
    "\n",
    "network = Sequential()\n",
    "network.add(Conv2D(filters=32, kernel_size=(3,3),activation='relu', input_shape=(64,64,3)))\n",
    "network.add(MaxPool2D(pool_size=(2,2)))\n",
    "\n",
    "network.add(Conv2D(filters=32, kernel_size=(3,3) ,activation='relu')  )\n",
    "network.add(MaxPool2D(pool_size=(2,2)))\n",
    "network.add(Conv2D(filters=32, kernel_size=(3,3),activation='relu'))\n",
    "network.add(MaxPool2D(pool_size=(2,2)))\n",
    "\n",
    "network.add(Flatten())\n",
    "\n",
    "network.add(Dense(units=577, activation='relu'))\n",
    "network.add(Dense(units=577, activation='relu'))\n",
    "\n",
    "network.add(Dense(units=2, activation='softmax'))\n",
    "network.summary()"
   ]
  },
  {
   "cell_type": "code",
   "execution_count": 25,
   "metadata": {
    "id": "KuEsMMN9kZHu"
   },
   "outputs": [],
   "source": [
    "network.compile(optimizer='Adam', loss='categorical_crossentropy', metrics=['accuracy'])"
   ]
  },
  {
   "cell_type": "code",
   "execution_count": 26,
   "metadata": {
    "colab": {
     "base_uri": "https://localhost:8080/"
    },
    "id": "J9PXvl4DmaoR",
    "outputId": "9d825779-8109-4745-e266-b58f904d1230"
   },
   "outputs": [
    {
     "name": "stdout",
     "output_type": "stream",
     "text": [
      "Epoch 1/50\n",
      "27/27 [==============================] - 9s 22ms/step - loss: 0.6338 - accuracy: 0.6326\n",
      "Epoch 2/50\n",
      "27/27 [==============================] - 0s 18ms/step - loss: 0.5266 - accuracy: 0.7349\n",
      "Epoch 3/50\n",
      "27/27 [==============================] - 0s 17ms/step - loss: 0.4179 - accuracy: 0.8140\n",
      "Epoch 4/50\n",
      "27/27 [==============================] - 0s 17ms/step - loss: 0.3763 - accuracy: 0.8233\n",
      "Epoch 5/50\n",
      "27/27 [==============================] - 0s 17ms/step - loss: 0.3695 - accuracy: 0.8279\n",
      "Epoch 6/50\n",
      "27/27 [==============================] - 0s 17ms/step - loss: 0.3065 - accuracy: 0.8651\n",
      "Epoch 7/50\n",
      "27/27 [==============================] - 0s 18ms/step - loss: 0.2763 - accuracy: 0.8698\n",
      "Epoch 8/50\n",
      "27/27 [==============================] - 0s 18ms/step - loss: 0.2733 - accuracy: 0.9023\n",
      "Epoch 9/50\n",
      "27/27 [==============================] - 0s 17ms/step - loss: 0.3192 - accuracy: 0.8744\n",
      "Epoch 10/50\n",
      "27/27 [==============================] - 0s 17ms/step - loss: 0.2560 - accuracy: 0.8698\n",
      "Epoch 11/50\n",
      "27/27 [==============================] - 0s 17ms/step - loss: 0.2110 - accuracy: 0.9163\n",
      "Epoch 12/50\n",
      "27/27 [==============================] - 0s 17ms/step - loss: 0.1852 - accuracy: 0.9209\n",
      "Epoch 13/50\n",
      "27/27 [==============================] - 0s 17ms/step - loss: 0.1503 - accuracy: 0.9488\n",
      "Epoch 14/50\n",
      "27/27 [==============================] - 0s 17ms/step - loss: 0.1600 - accuracy: 0.9442\n",
      "Epoch 15/50\n",
      "27/27 [==============================] - 0s 18ms/step - loss: 0.1427 - accuracy: 0.9349\n",
      "Epoch 16/50\n",
      "27/27 [==============================] - 0s 18ms/step - loss: 0.1606 - accuracy: 0.9442\n",
      "Epoch 17/50\n",
      "27/27 [==============================] - 1s 18ms/step - loss: 0.0932 - accuracy: 0.9674\n",
      "Epoch 18/50\n",
      "27/27 [==============================] - 0s 17ms/step - loss: 0.0336 - accuracy: 0.9860\n",
      "Epoch 19/50\n",
      "27/27 [==============================] - 0s 17ms/step - loss: 0.1199 - accuracy: 0.9535\n",
      "Epoch 20/50\n",
      "27/27 [==============================] - 0s 17ms/step - loss: 0.1038 - accuracy: 0.9674\n",
      "Epoch 21/50\n",
      "27/27 [==============================] - 0s 18ms/step - loss: 0.1290 - accuracy: 0.9395\n",
      "Epoch 22/50\n",
      "27/27 [==============================] - 0s 17ms/step - loss: 0.1029 - accuracy: 0.9767\n",
      "Epoch 23/50\n",
      "27/27 [==============================] - 0s 18ms/step - loss: 0.0815 - accuracy: 0.9628\n",
      "Epoch 24/50\n",
      "27/27 [==============================] - 0s 17ms/step - loss: 0.0850 - accuracy: 0.9581\n",
      "Epoch 25/50\n",
      "27/27 [==============================] - 0s 18ms/step - loss: 0.0449 - accuracy: 0.9814\n",
      "Epoch 26/50\n",
      "27/27 [==============================] - 0s 17ms/step - loss: 0.0579 - accuracy: 0.9767\n",
      "Epoch 27/50\n",
      "27/27 [==============================] - 0s 17ms/step - loss: 0.0470 - accuracy: 0.9767\n",
      "Epoch 28/50\n",
      "27/27 [==============================] - 0s 18ms/step - loss: 0.0564 - accuracy: 0.9860\n",
      "Epoch 29/50\n",
      "27/27 [==============================] - 1s 18ms/step - loss: 0.1040 - accuracy: 0.9721\n",
      "Epoch 30/50\n",
      "27/27 [==============================] - 0s 17ms/step - loss: 0.1109 - accuracy: 0.9628\n",
      "Epoch 31/50\n",
      "27/27 [==============================] - 0s 17ms/step - loss: 0.0693 - accuracy: 0.9674\n",
      "Epoch 32/50\n",
      "27/27 [==============================] - 0s 17ms/step - loss: 0.0552 - accuracy: 0.9767\n",
      "Epoch 33/50\n",
      "27/27 [==============================] - 1s 18ms/step - loss: 0.0659 - accuracy: 0.9814\n",
      "Epoch 34/50\n",
      "27/27 [==============================] - 0s 18ms/step - loss: 0.0757 - accuracy: 0.9767\n",
      "Epoch 35/50\n",
      "27/27 [==============================] - 0s 18ms/step - loss: 0.1841 - accuracy: 0.9488\n",
      "Epoch 36/50\n",
      "27/27 [==============================] - 0s 18ms/step - loss: 0.0412 - accuracy: 0.9953\n",
      "Epoch 37/50\n",
      "27/27 [==============================] - 0s 17ms/step - loss: 0.0243 - accuracy: 0.9860\n",
      "Epoch 38/50\n",
      "27/27 [==============================] - 0s 17ms/step - loss: 0.0360 - accuracy: 0.9814\n",
      "Epoch 39/50\n",
      "27/27 [==============================] - 0s 17ms/step - loss: 0.0714 - accuracy: 0.9814\n",
      "Epoch 40/50\n",
      "27/27 [==============================] - 0s 17ms/step - loss: 0.0301 - accuracy: 0.9860\n",
      "Epoch 41/50\n",
      "27/27 [==============================] - 0s 18ms/step - loss: 0.0268 - accuracy: 0.9907\n",
      "Epoch 42/50\n",
      "27/27 [==============================] - 0s 17ms/step - loss: 0.0121 - accuracy: 0.9907\n",
      "Epoch 43/50\n",
      "27/27 [==============================] - 0s 17ms/step - loss: 0.0081 - accuracy: 0.9953\n",
      "Epoch 44/50\n",
      "27/27 [==============================] - 1s 18ms/step - loss: 0.0057 - accuracy: 1.0000\n",
      "Epoch 45/50\n",
      "27/27 [==============================] - 1s 23ms/step - loss: 0.0015 - accuracy: 1.0000\n",
      "Epoch 46/50\n",
      "27/27 [==============================] - 1s 22ms/step - loss: 0.0523 - accuracy: 0.9860\n",
      "Epoch 47/50\n",
      "27/27 [==============================] - 0s 17ms/step - loss: 0.0774 - accuracy: 0.9674\n",
      "Epoch 48/50\n",
      "27/27 [==============================] - 0s 18ms/step - loss: 0.0235 - accuracy: 0.9907\n",
      "Epoch 49/50\n",
      "27/27 [==============================] - 0s 17ms/step - loss: 0.0271 - accuracy: 0.9907\n",
      "Epoch 50/50\n",
      "27/27 [==============================] - 0s 17ms/step - loss: 0.0243 - accuracy: 0.9907\n"
     ]
    }
   ],
   "source": [
    "#Treinando o modelo\n",
    "historico = network.fit(data_train, epochs=50)"
   ]
  },
  {
   "cell_type": "code",
   "execution_count": 30,
   "metadata": {
    "colab": {
     "base_uri": "https://localhost:8080/"
    },
    "id": "SWqE9s4Vmgmi",
    "outputId": "a23114ec-9ac5-4067-b73a-8868048ab0a5"
   },
   "outputs": [
    {
     "name": "stdout",
     "output_type": "stream",
     "text": [
      "54/54 [==============================] - 0s 3ms/step\n"
     ]
    },
    {
     "data": {
      "text/plain": [
       "array([[1.00000000e+00, 3.66466659e-21],\n",
       "       [1.00000000e+00, 9.21209897e-12],\n",
       "       [1.35811744e-04, 9.99864221e-01],\n",
       "       [1.00000000e+00, 3.00274602e-19],\n",
       "       [1.00000000e+00, 1.01624636e-25],\n",
       "       [1.00000000e+00, 4.99061934e-21],\n",
       "       [9.99999881e-01, 1.09428726e-07],\n",
       "       [9.70548749e-01, 2.94512343e-02],\n",
       "       [8.10467303e-02, 9.18953300e-01],\n",
       "       [9.99849916e-01, 1.50066742e-04],\n",
       "       [1.00000000e+00, 1.63526028e-08],\n",
       "       [1.00000000e+00, 1.88654205e-17],\n",
       "       [9.86415327e-01, 1.35846864e-02],\n",
       "       [1.00000000e+00, 5.64194096e-08],\n",
       "       [1.00000000e+00, 6.36864852e-22],\n",
       "       [1.00000000e+00, 1.38323847e-17],\n",
       "       [6.42060954e-03, 9.93579388e-01],\n",
       "       [9.99999881e-01, 9.21160677e-08],\n",
       "       [9.99946237e-01, 5.37112755e-05],\n",
       "       [1.00000000e+00, 3.27772243e-23],\n",
       "       [9.99997854e-01, 2.19461049e-06],\n",
       "       [1.00000000e+00, 2.45057349e-19],\n",
       "       [9.99998927e-01, 1.01529122e-06],\n",
       "       [9.79624748e-01, 2.03753002e-02],\n",
       "       [9.99999762e-01, 2.26201621e-07],\n",
       "       [9.99888420e-01, 1.11558154e-04],\n",
       "       [1.00000000e+00, 5.46621693e-20],\n",
       "       [1.00000000e+00, 1.11183684e-09],\n",
       "       [1.23340058e-07, 9.99999881e-01],\n",
       "       [3.84778538e-08, 1.00000000e+00],\n",
       "       [5.53052612e-12, 1.00000000e+00],\n",
       "       [2.94348101e-09, 1.00000000e+00],\n",
       "       [9.23793435e-01, 7.62065649e-02],\n",
       "       [1.09924353e-03, 9.98900771e-01],\n",
       "       [6.87475562e-01, 3.12524438e-01],\n",
       "       [4.73096042e-12, 1.00000000e+00],\n",
       "       [4.90076607e-04, 9.99509931e-01],\n",
       "       [4.05159033e-14, 1.00000000e+00],\n",
       "       [1.40906682e-08, 1.00000000e+00],\n",
       "       [1.84586843e-14, 1.00000000e+00],\n",
       "       [3.11606665e-12, 1.00000000e+00],\n",
       "       [2.53788457e-09, 1.00000000e+00],\n",
       "       [4.91158944e-03, 9.95088398e-01],\n",
       "       [6.36387256e-07, 9.99999404e-01],\n",
       "       [1.81271926e-01, 8.18728089e-01],\n",
       "       [1.31896752e-06, 9.99998689e-01],\n",
       "       [9.89268839e-01, 1.07311420e-02],\n",
       "       [4.15398849e-14, 1.00000000e+00],\n",
       "       [3.83995520e-08, 1.00000000e+00],\n",
       "       [6.05387939e-03, 9.93946135e-01],\n",
       "       [2.32379538e-09, 1.00000000e+00],\n",
       "       [1.55650923e-05, 9.99984384e-01],\n",
       "       [1.42715941e-03, 9.98572826e-01],\n",
       "       [1.72827874e-09, 1.00000000e+00]], dtype=float32)"
      ]
     },
     "execution_count": 30,
     "metadata": {},
     "output_type": "execute_result"
    }
   ],
   "source": [
    "#Avaliando o modelo\n",
    "predict = network.predict(data_test)\n",
    "predict"
   ]
  },
  {
   "cell_type": "code",
   "execution_count": 31,
   "metadata": {
    "colab": {
     "base_uri": "https://localhost:8080/"
    },
    "id": "2gl-YnwXm9gm",
    "outputId": "b9fb29da-6a52-4a12-877a-d049326ed80a"
   },
   "outputs": [
    {
     "data": {
      "text/plain": [
       "array([0, 0, 1, 0, 0, 0, 0, 0, 1, 0, 0, 0, 0, 0, 0, 0, 1, 0, 0, 0, 0, 0,\n",
       "       0, 0, 0, 0, 0, 0, 1, 1, 1, 1, 0, 1, 0, 1, 1, 1, 1, 1, 1, 1, 1, 1,\n",
       "       1, 1, 0, 1, 1, 1, 1, 1, 1, 1])"
      ]
     },
     "execution_count": 31,
     "metadata": {},
     "output_type": "execute_result"
    }
   ],
   "source": [
    "#recuperando o maior valor (maior probabilidade)\n",
    "predict = np.argmax(predict, axis=1)\n",
    "predict"
   ]
  },
  {
   "cell_type": "code",
   "execution_count": 34,
   "metadata": {
    "colab": {
     "base_uri": "https://localhost:8080/"
    },
    "id": "ARPzIo4rnb4O",
    "outputId": "6bc8ca48-8e17-46c0-fc3e-2c8af8596802"
   },
   "outputs": [
    {
     "data": {
      "text/plain": [
       "0.8888888888888888"
      ]
     },
     "execution_count": 34,
     "metadata": {},
     "output_type": "execute_result"
    }
   ],
   "source": [
    "accuracy_score(data_test.classes, predict)"
   ]
  },
  {
   "cell_type": "code",
   "execution_count": 37,
   "metadata": {
    "colab": {
     "base_uri": "https://localhost:8080/",
     "height": 286
    },
    "id": "3_-PnxlRn7Zp",
    "outputId": "680b4835-18b3-4ad1-a7da-5949601bca44"
   },
   "outputs": [
    {
     "data": {
      "text/plain": [
       "<matplotlib.axes._subplots.AxesSubplot at 0x7f769a6112b0>"
      ]
     },
     "execution_count": 37,
     "metadata": {},
     "output_type": "execute_result"
    },
    {
     "data": {
      "image/png": "[encoded data removed]",
      "text/plain": [
       "<Figure size 432x288 with 2 Axes>"
      ]
     },
     "metadata": {
      "needs_background": "light"
     },
     "output_type": "display_data"
    }
   ],
   "source": [
    "cm = confusion_matrix(data_test.classes, predict)\n",
    "sns.heatmap(cm, annot=True)"
   ]
  },
  {
   "cell_type": "code",
   "execution_count": 39,
   "metadata": {
    "colab": {
     "base_uri": "https://localhost:8080/"
    },
    "id": "IoPMjVfCn-eW",
    "outputId": "90a78ae4-57fa-4c73-8193-c9cef1528467"
   },
   "outputs": [
    {
     "name": "stdout",
     "output_type": "stream",
     "text": [
      "              precision    recall  f1-score   support\n",
      "\n",
      "           0       0.89      0.89      0.89        28\n",
      "           1       0.88      0.88      0.88        26\n",
      "\n",
      "    accuracy                           0.89        54\n",
      "   macro avg       0.89      0.89      0.89        54\n",
      "weighted avg       0.89      0.89      0.89        54\n",
      "\n"
     ]
    }
   ],
   "source": [
    "print(classification_report(data_test.classes, predict))"
   ]
  },
  {
   "cell_type": "code",
   "execution_count": 55,
   "metadata": {
    "colab": {
     "base_uri": "https://localhost:8080/",
     "height": 553
    },
    "id": "AoqXl8Vjp-Wj",
    "outputId": "6630c031-628f-4625-dcc9-f3d65a7045a3"
   },
   "outputs": [
    {
     "data": {
      "image/png": "[encoded data removed]",
      "text/plain": [
       "<PIL.Image.Image image mode=RGB size=514x536 at 0x7F769A0A7EB0>"
      ]
     },
     "metadata": {},
     "output_type": "display_data"
    }
   ],
   "source": [
    "#Classificando uma única imagem\n",
    "img = cv2.imread('/content/homer_bart_2/test_set/homer/homer15.bmp')\n",
    "cv2_imshow(img)"
   ]
  },
  {
   "cell_type": "code",
   "execution_count": 56,
   "metadata": {
    "colab": {
     "base_uri": "https://localhost:8080/"
    },
    "id": "kalb1AV3qWS9",
    "outputId": "9f1058a3-6851-4331-e0f3-95d5b13b9443"
   },
   "outputs": [
    {
     "data": {
      "text/plain": [
       "(536, 514, 3)"
      ]
     },
     "execution_count": 56,
     "metadata": {},
     "output_type": "execute_result"
    }
   ],
   "source": [
    "#Pré-processamento da imagem para o mesmo padrão que a rede foi treinada\n",
    "img = cv2.resize(img, (64,64))\n",
    "img = img/255\n",
    "img = img.reshape(-1,64,64,3)"
   ]
  },
  {
   "cell_type": "code",
   "execution_count": 60,
   "metadata": {
    "colab": {
     "base_uri": "https://localhost:8080/"
    },
    "id": "pQTQkrU3rHs9",
    "outputId": "dd77cde2-8999-4109-d755-386977732558"
   },
   "outputs": [
    {
     "name": "stdout",
     "output_type": "stream",
     "text": [
      "1/1 [==============================] - 0s 75ms/step\n"
     ]
    }
   ],
   "source": [
    "predict = network_loaded.predict(img)"
   ]
  },
  {
   "cell_type": "code",
   "execution_count": 61,
   "metadata": {
    "colab": {
     "base_uri": "https://localhost:8080/"
    },
    "id": "jI_XuuOerJ83",
    "outputId": "94cf5cb3-a31d-48d3-c463-88b7cd04238e"
   },
   "outputs": [
    {
     "data": {
      "text/plain": [
       "1"
      ]
     },
     "execution_count": 61,
     "metadata": {},
     "output_type": "execute_result"
    }
   ],
   "source": [
    "predict = np.argmax(predict)\n",
    "predict"
   ]
  },
  {
   "cell_type": "code",
   "execution_count": 62,
   "metadata": {
    "colab": {
     "base_uri": "https://localhost:8080/"
    },
    "id": "UXudQ0zrrPjv",
    "outputId": "fef3dbe5-e376-4d98-a7b3-b76199ea5787"
   },
   "outputs": [
    {
     "data": {
      "text/plain": [
       "{'bart': 0, 'homer': 1}"
      ]
     },
     "execution_count": 62,
     "metadata": {},
     "output_type": "execute_result"
    }
   ],
   "source": [
    "data_test.class_indices"
   ]
  },
  {
   "cell_type": "code",
   "execution_count": 63,
   "metadata": {
    "colab": {
     "base_uri": "https://localhost:8080/"
    },
    "id": "H561haqCrTy7",
    "outputId": "e78d4249-7414-4e0b-f713-9f552c380fef"
   },
   "outputs": [
    {
     "name": "stdout",
     "output_type": "stream",
     "text": [
      "Homer\n"
     ]
    }
   ],
   "source": [
    "if predict ==0:\n",
    "  print('Bart')\n",
    "else:\n",
    "  print('Homer')"
   ]
  }
 ],
 "metadata": {
  "accelerator": "GPU",
  "colab": {
   "authorship_tag": "ABX9TyOjbYFT6NFEru9kOzepKpzn",
   "provenance": []
  },
  "gpuClass": "standard",
  "kernelspec": {
   "display_name": "Python 3 (ipykernel)",
   "language": "python",
   "name": "python3"
  },
  "language_info": {
   "codemirror_mode": {
    "name": "ipython",
    "version": 3
   },
   "file_extension": ".py",
   "mimetype": "text/x-python",
   "name": "python",
   "nbconvert_exporter": "python",
   "pygments_lexer": "ipython3",
   "version": "3.10.9"
  }
 },
 "nbformat": 4,
 "nbformat_minor": 1
}
