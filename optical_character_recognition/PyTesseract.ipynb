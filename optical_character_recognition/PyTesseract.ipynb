{
 "cells": [
  {
   "cell_type": "code",
   "execution_count": 2,
   "id": "e781e6e8",
   "metadata": {},
   "outputs": [],
   "source": [
    "#Bibliotecas\n",
    "import PIL\n",
    "import cv2\n",
    "import pytesseract\n",
    "from PIL import Image\n",
    "import matplotlib.pyplot as plt\n",
    "import numpy as np"
   ]
  },
  {
   "cell_type": "code",
   "execution_count": 3,
   "id": "63d9e0c9",
   "metadata": {},
   "outputs": [],
   "source": [
    "#Carregando as imanges\n",
    "img_file = '../datasets/ocr/page_01.jpg'\n",
    "no_noise = 'data-processed/no_noise.jpg'\n",
    "img = Image.open(img_file)\n",
    "img_no_nose = Image.open(no_noise)"
   ]
  },
  {
   "cell_type": "code",
   "execution_count": 4,
   "id": "a64a6c34",
   "metadata": {},
   "outputs": [],
   "source": [
    "#Extraindo o texto das imagens com o pytesseract\n",
    "ocr_result = pytesseract.image_to_string(img)\n",
    "ocr_result_no_noise = pytesseract.image_to_string(img_no_nose)"
   ]
  },
  {
   "cell_type": "code",
   "execution_count": 6,
   "id": "fc9919fe",
   "metadata": {},
   "outputs": [
    {
     "name": "stdout",
     "output_type": "stream",
     "text": [
      " \n",
      "\f",
      "\n"
     ]
    }
   ],
   "source": [
    "#Comparando o resultado da imagem sem tratamento com a imagem tratada\n",
    "print(ocr_result)"
   ]
  },
  {
   "cell_type": "code",
   "execution_count": 7,
   "id": "bb6d21fd",
   "metadata": {},
   "outputs": [
    {
     "name": "stdout",
     "output_type": "stream",
     "text": [
      "“GABRIEL NMermace\n",
      "\n",
      "On Easter motning in the year 175, I took my six-year-old\n",
      "son by the hand and beran walking fron my home town toward the\n",
      "valleys and forests of the Carpathirs rountains. For nearly\n",
      "eight months we lived in barns, attics and makeshift cabins. “ith\n",
      "the poncuos help of an unusually courageous man, we managed to\n",
      "survive Europe's greatest fit of madness. Those who walked in\n",
      "the opposite direction on that Easter day were less fortunate.\n",
      "They wore taken in trainloads to places whose once obscure nanes\n",
      "are now, and forever will be, synonymous with terror, evil and\n",
      "death. What follows is our story of survival told to the best\n",
      "of my ability, in plain, simple languare.\n",
      "\n",
      "In March of 1944 the SS troops took over the internal affeirs\n",
      "of Hungary and proceeded to organize the deportation of the Jews.\n",
      "™> the Nazis this was a routine assignment; within hours all local\n",
      "officials were informed of operational plans. The high command\n",
      "issued a directive designed to placate Jewish fears and induce\n",
      "cooperation. It was announced that the Jews would be shipped to\n",
      "Poler:i as an emergency labor force and that they were only being\n",
      "drafted for temporary vork. There were many who believed this\n",
      "version. Others, less credulous, resigred themselves and hoped for\n",
      "the best. Still others began to make plans for escape. By Apris\n",
      "13 the Hungarian Jews were being rounded up from all over the\n",
      "country kn what was once a huge brick factory. The rest is well\n",
      "known. :\n",
      "\n",
      "I was working in Urevar and usually came home on weekends.\n",
      "\n",
      "At that time it was no lonser possitle for a Jew to travel freely.\n",
      "\n",
      "1\n",
      "\n",
      " \n",
      "\f",
      "\n"
     ]
    }
   ],
   "source": [
    "#Imagem tratada\n",
    "print(ocr_result_no_noise)"
   ]
  }
 ],
 "metadata": {
  "kernelspec": {
   "display_name": "Python 3 (ipykernel)",
   "language": "python",
   "name": "python3"
  },
  "language_info": {
   "codemirror_mode": {
    "name": "ipython",
    "version": 3
   },
   "file_extension": ".py",
   "mimetype": "text/x-python",
   "name": "python",
   "nbconvert_exporter": "python",
   "pygments_lexer": "ipython3",
   "version": "3.10.9"
  }
 },
 "nbformat": 4,
 "nbformat_minor": 5
}
